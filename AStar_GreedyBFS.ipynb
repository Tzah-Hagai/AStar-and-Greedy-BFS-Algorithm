{
  "nbformat": 4,
  "nbformat_minor": 0,
  "metadata": {
    "colab": {
      "name": "AStar_GreedyBFS.ipynb",
      "provenance": [],
      "collapsed_sections": []
    },
    "kernelspec": {
      "name": "python3",
      "display_name": "Python 3"
    },
    "language_info": {
      "name": "python"
    }
  },
  "cells": [
    {
      "cell_type": "code",
      "execution_count": null,
      "metadata": {
        "id": "b5P_Foo-Uazw"
      },
      "outputs": [],
      "source": [
        "import pandas as pd\n",
        "import numpy as np\n",
        "# making data frame  \n",
        "input = open(\"input.txt\", \"r\")\n",
        "Lines = input.readlines()\n",
        "grid_arr = []\n",
        "rules = []"
      ]
    },
    {
      "cell_type": "code",
      "source": [
        "# Strips the newline character\n",
        "for i in range(0 ,2):\n",
        "   rules.append(Lines[i].strip())\n",
        "rules"
      ],
      "metadata": {
        "colab": {
          "base_uri": "https://localhost:8080/"
        },
        "id": "AJEh2d4dUge-",
        "outputId": "65e82c91-cf18-4080-920e-bf5319527581"
      },
      "execution_count": null,
      "outputs": [
        {
          "output_type": "execute_result",
          "data": {
            "text/plain": [
              "['greedyBestFirst', '4']"
            ]
          },
          "metadata": {},
          "execution_count": 555
        }
      ]
    },
    {
      "cell_type": "code",
      "source": [
        "for i in range(2 ,len(Lines)):\n",
        "   grid_arr.append(Lines[i].strip())\n",
        "grid_arr"
      ],
      "metadata": {
        "colab": {
          "base_uri": "https://localhost:8080/"
        },
        "id": "Pfdnyw6CUhfy",
        "outputId": "209084d5-acaa-4d9e-99b4-969c7f7abaf1"
      },
      "execution_count": null,
      "outputs": [
        {
          "output_type": "execute_result",
          "data": {
            "text/plain": [
              "['ADRB', 'RRRW', 'DRDR', 'DRRR']"
            ]
          },
          "metadata": {},
          "execution_count": 556
        }
      ]
    },
    {
      "cell_type": "code",
      "source": [
        "sentence = \"\"\n",
        "for word in grid_arr:\n",
        "    sentence += str(word)\n",
        "number_columns = int(rules[1])\n",
        "l = [list(sentence[i:i+number_columns]) for i in range(0, len(sentence), number_columns)]\n",
        "matrix = [s if len(s) == number_columns else s+[None]*(number_columns-len(s)) for s in l]\n",
        "matrix"
      ],
      "metadata": {
        "colab": {
          "base_uri": "https://localhost:8080/"
        },
        "id": "4ZJYZzx-Uley",
        "outputId": "b606abb8-1218-4afc-9a30-c4bbd510c229"
      },
      "execution_count": null,
      "outputs": [
        {
          "output_type": "execute_result",
          "data": {
            "text/plain": [
              "[['A', 'D', 'R', 'B'],\n",
              " ['R', 'R', 'R', 'W'],\n",
              " ['D', 'R', 'D', 'R'],\n",
              " ['D', 'R', 'R', 'R']]"
            ]
          },
          "metadata": {},
          "execution_count": 557
        }
      ]
    },
    {
      "cell_type": "code",
      "source": [
        "for i in range(len(matrix)):\n",
        "  for j in range(len(matrix)):\n",
        "    if matrix[i][j] == \"R\":\n",
        "      matrix[i][j] = 1\n",
        "    if matrix[i][j] == \"D\":\n",
        "      matrix[i][j] = 4\n",
        "    if matrix[i][j] == \"B\":\n",
        "      matrix[i][j] = -1\n",
        "    if matrix[i][j] == \"A\":\n",
        "      matrix[i][j] = 0\n",
        "    if matrix[i][j] == \"W\":\n",
        "      matrix[i][j] = 10 \n",
        "matrix"
      ],
      "metadata": {
        "colab": {
          "base_uri": "https://localhost:8080/"
        },
        "id": "7jVDL2ubn91I",
        "outputId": "0d78332e-dfee-41fb-950d-65f392c5714c"
      },
      "execution_count": null,
      "outputs": [
        {
          "output_type": "execute_result",
          "data": {
            "text/plain": [
              "[[0, 4, 1, -1], [1, 1, 1, 10], [4, 1, 4, 1], [4, 1, 1, 1]]"
            ]
          },
          "metadata": {},
          "execution_count": 558
        }
      ]
    },
    {
      "cell_type": "code",
      "source": [
        "class Node:\n",
        "  def __init__(self, i, j, h):\n",
        "    self.i = i\n",
        "    self.j = j\n",
        "    self.h = h"
      ],
      "metadata": {
        "id": "r4JiX3GTU2ql"
      },
      "execution_count": null,
      "outputs": []
    },
    {
      "cell_type": "code",
      "source": [
        "def makeNode(i, j, h):\n",
        "  node = Node(i, j, h)\n",
        "  return node"
      ],
      "metadata": {
        "id": "25EbMBojU_E8"
      },
      "execution_count": null,
      "outputs": []
    },
    {
      "cell_type": "code",
      "source": [
        "matArr = []\n",
        "for i in range(0, int(rules[1])):\n",
        "  for j in range(0, int(rules[1])):\n",
        "    matArr.append(makeNode(i, j, matrix[i][j]))"
      ],
      "metadata": {
        "id": "IVQ2qrNqJb1t"
      },
      "execution_count": null,
      "outputs": []
    },
    {
      "cell_type": "code",
      "source": [
        "temp = matArr\n",
        "nodeArr = []\n",
        "while temp != []:\n",
        "    nodeArr.append(temp[:int(rules[1])])\n",
        "    temp = temp[int(rules[1]):]"
      ],
      "metadata": {
        "id": "KsgfRwLZYn32"
      },
      "execution_count": null,
      "outputs": []
    },
    {
      "cell_type": "code",
      "source": [
        "def find_neighbours(arr):\n",
        "  neighbors = []\n",
        "\n",
        "  for i in range(len(arr)):\n",
        "    for j, value in enumerate(arr[i]):\n",
        "      if i == 0 or i == len(arr) - 1 or j == 0 or j == len(arr[i]) - 1:\n",
        "        # corners\n",
        "        new_neighbors = []\n",
        "        if i != 0:\n",
        "          new_neighbors.append({\"top\":arr[i - 1][j]})  # top neighbor\n",
        "        if j != len(arr[i]) - 1:\n",
        "          new_neighbors.append({\"right\":arr[i][j + 1]})  # right neighbor\n",
        "        if i != len(arr) - 1:\n",
        "          new_neighbors.append({\"bottom\":arr[i + 1][j]})  # bottom neighbor\n",
        "        if j != 0:\n",
        "          new_neighbors.append({\"left\":arr[i][j-1]})  # left neighbor\n",
        "\n",
        "      else:\n",
        "        # add neighbors\n",
        "        new_neighbors = [\n",
        "            {\"top\":arr[i - 1][j]},  # top neighbor\n",
        "            {\"right\":arr[i][j + 1]},  # right neighbor\n",
        "            {\"bottom\":arr[i + 1][j]},  # bottom neighbor\n",
        "            {\"left\":arr[i][j - 1]}   # left neighbor\n",
        "        ]\n",
        "\n",
        "      neighbors.append({\n",
        "          \"value\": value,\n",
        "          \"neighbors\": new_neighbors})\n",
        "\n",
        "  return neighbors"
      ],
      "metadata": {
        "id": "s7jTlh7fVrN9"
      },
      "execution_count": null,
      "outputs": []
    },
    {
      "cell_type": "code",
      "source": [
        "neigh = find_neighbours(nodeArr)"
      ],
      "metadata": {
        "id": "lj0Ze7umWSSa"
      },
      "execution_count": null,
      "outputs": []
    },
    {
      "cell_type": "code",
      "source": [
        "temp = neigh\n",
        "new_neigh = []\n",
        "while temp != []:\n",
        "    new_neigh.append(temp[:int(rules[1])])\n",
        "    temp = temp[int(rules[1]):]"
      ],
      "metadata": {
        "id": "rJUBm_libv0W"
      },
      "execution_count": null,
      "outputs": []
    },
    {
      "cell_type": "code",
      "source": [
        "def getNeighbors(father):\n",
        "  nei = father.get('neighbors')\n",
        "  neighbors = []\n",
        "  for item in nei:\n",
        "    if 'top' in item:\n",
        "      temp = item['top']\n",
        "      temp.dir = 'U'\n",
        "    if 'right' in item:\n",
        "      temp = item['right']\n",
        "      temp.dir = 'R'\n",
        "    if 'bottom' in item:\n",
        "      temp = item['bottom']\n",
        "      temp.dir = 'D'\n",
        "    if 'left' in item:\n",
        "      temp = item['left']\n",
        "      temp.dir = 'L'\n",
        "\n",
        "  for item in nei:\n",
        "    neighbors.append(list(item.values()))\n",
        "  flat_list = [item for sublist in neighbors for item in sublist if item.h != 10]\n",
        "\n",
        "  for item in flat_list:\n",
        "    item.father = father.get('value')\n",
        "\n",
        "  return flat_list"
      ],
      "metadata": {
        "id": "drzjGiLTgscY"
      },
      "execution_count": null,
      "outputs": []
    },
    {
      "cell_type": "code",
      "source": [
        "def getPath(node):\n",
        "  if (hasattr(node, 'father')) == False:\n",
        "    print(node.h)\n",
        "    return\n",
        "  else:\n",
        "    print(node.h)\n",
        "    return getPath(node.father)"
      ],
      "metadata": {
        "id": "2jCjfsPg659z"
      },
      "execution_count": null,
      "outputs": []
    },
    {
      "cell_type": "code",
      "source": [
        "def findMin(arra, close):\n",
        "  newarr = []\n",
        "  for item in arra:\n",
        "    if item not in close:\n",
        "      newarr.append(item) \n",
        "  newarr.sort(key=lambda x: x.h, reverse = True)\n",
        "  if len(newarr) != 0: return newarr.pop()\n",
        "  else: return None"
      ],
      "metadata": {
        "id": "msdp1a7juqmH"
      },
      "execution_count": null,
      "outputs": []
    },
    {
      "cell_type": "code",
      "source": [
        "def greedyBestFirst(mat, neighs):\n",
        "  path = \"\"\n",
        "  cost = 1\n",
        "  open = []\n",
        "  close = []\n",
        "  open.append(mat[0][0])\n",
        "  while len(open) != 0:\n",
        "    next = open.pop()\n",
        "    close.append(next)\n",
        "    cost+=next.h\n",
        "    if next.h == -1:\n",
        "      return(path + str(cost))\n",
        "    neighbo = getNeighbors(neighs[next.i][next.j])\n",
        "    obj = findMin(neighbo, close)\n",
        "    if obj is None:\n",
        "      close.pop()\n",
        "      temp = close.pop()\n",
        "      close=[]\n",
        "      close.append(next)\n",
        "      path+=temp.dir + \"-\"\n",
        "      open.append(temp)\n",
        "    elif obj not in open and obj not in close:\n",
        "      path+= obj.dir + \"-\"\n",
        "      open.append(obj)\n",
        "  return(\"No Path\")"
      ],
      "metadata": {
        "id": "qz15rhiha6zf"
      },
      "execution_count": null,
      "outputs": []
    },
    {
      "cell_type": "code",
      "source": [
        "def addManhattan(matrix):\n",
        "  indexI = 0\n",
        "  indexJ = 0\n",
        "  for i in range(len(matrix)):\n",
        "    for j in range(len(matrix)):\n",
        "      if matrix[i][j].h == -1:\n",
        "        indexI = matrix[i][j].i\n",
        "        indexJ = matrix[i][j].j\n",
        "        \n",
        "  for i in range(len(matrix)):\n",
        "    for j in range(len(matrix)):\n",
        "      sum = abs(indexI-i)+abs(indexJ-j)\n",
        "      matrix[i][j].h+=sum"
      ],
      "metadata": {
        "id": "1izNuokhxvq0"
      },
      "execution_count": null,
      "outputs": []
    },
    {
      "cell_type": "code",
      "source": [
        "def AStar(mat, neighs):\n",
        "  addManhattan(mat)\n",
        "  path = \"\"\n",
        "  cost = 1\n",
        "  open = []\n",
        "  close = []\n",
        "  open.append(mat[0][0])\n",
        "  while len(open) != 0:\n",
        "    next = open.pop()\n",
        "    close.append(next)\n",
        "    cost+=next.h\n",
        "    if next.h == -1:\n",
        "      return(path + str(cost))\n",
        "    neighbo = getNeighbors(neighs[next.i][next.j])\n",
        "    obj = findMin(neighbo, close)\n",
        "    if obj is None:\n",
        "      close.pop()\n",
        "      temp = close.pop()\n",
        "      close=[]\n",
        "      close.append(next)\n",
        "      path+=temp.dir + \"-\"\n",
        "      open.append(temp)\n",
        "    elif obj not in open and obj not in close:\n",
        "      path+= obj.dir + \"-\"\n",
        "      open.append(obj)\n",
        "  return(\"No Path\")"
      ],
      "metadata": {
        "id": "Ck3o_ejnxP4C"
      },
      "execution_count": null,
      "outputs": []
    },
    {
      "cell_type": "code",
      "source": [
        "if rules[0] == \"A*\":\n",
        "  output = AStar(nodeArr, new_neigh)\n",
        "  print(output)\n",
        "  with open('output.txt', 'w') as f:\n",
        "    f.write(output)\n",
        "\n",
        "if rules[0] == \"greedyBestFirst\":\n",
        "  output = greedyBestFirst(nodeArr, new_neigh)\n",
        "  print(output)\n",
        "  with open('output.txt', 'w') as f:\n",
        "    f.write(output)"
      ],
      "metadata": {
        "colab": {
          "base_uri": "https://localhost:8080/"
        },
        "id": "Rj1gubKgIMvO",
        "outputId": "822f8505-c1e1-4395-d546-2aed33967dfe"
      },
      "execution_count": null,
      "outputs": [
        {
          "output_type": "stream",
          "name": "stdout",
          "text": [
            "D-R-D-D-R-R-U-L-U-U-R-13\n"
          ]
        }
      ]
    }
  ]
}